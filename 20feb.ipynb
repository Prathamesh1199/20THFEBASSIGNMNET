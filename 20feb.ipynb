{
 "cells": [
  {
   "cell_type": "code",
   "execution_count": null,
   "id": "5a575058-bfb8-4b65-ac86-cc092009c7dc",
   "metadata": {},
   "outputs": [],
   "source": [
    "1: GET and POST are HTTP request methods used to retrieve and send data between a\n",
    "client and a server. Here's an explanation of each:\n",
    "\n",
    "1.\"GET METHOD\"\n",
    "  GET is a method used to retrieve data from a server. When a client sends a GET request\n",
    "    to a server, the server responds by returning the requested data in the response \n",
    "    body. GET requests are typically used to retrieve resources such as web pages, \n",
    "    images, videos, etc. from a server.\n",
    "One important characteristic of the GET method is that it is idempotent, meaning that\n",
    "multiple identical requests will have the same effect as a single request. Additionally,\n",
    "GET requests can be cached, which can improve performance and reduce server load.\n",
    "\n",
    "2.\"POST METHOD\"\n",
    "  POST is a method used to submit data to a server. When a client sends a POST request\n",
    "    to a server, the server processes the data in the request body and may store or modify it.\n",
    "    POST requests are typically used for tasks such as submitting form data, creating new\n",
    "    resources, or updating existing resources.\n",
    "\n",
    "\n",
    "Unlike GET, POST requests are not idempotent, meaning that multiple identical requests \n",
    "may have different effects. POST requests are also not typically cached because\n",
    "they may result in changes to server data.\n",
    "\n"
   ]
  },
  {
   "cell_type": "code",
   "execution_count": null,
   "id": "0e934866-078a-4b0b-82c1-ed078ab04e94",
   "metadata": {},
   "outputs": [],
   "source": []
  },
  {
   "cell_type": "code",
   "execution_count": null,
   "id": "35aeff8d-671a-44ac-a723-aca9b55dcc1d",
   "metadata": {},
   "outputs": [],
   "source": [
    "2: Request is used in Flask to handle incoming HTTP requests from clients, such as\n",
    "web browsers. When a client sends a request to a Flask application, the request is\n",
    "processed by the Flask framework, which generates a request object that contains \n",
    "information about the request.\n",
    " The request object provides a variety of useful information about the request, \n",
    "    such as the request method (GET, POST, etc.)...\n",
    "    \n",
    "Overall, the request object is a key component of the Flask framework, allowing \n",
    "developers to build powerful and flexible web applications that can handle a wide\n",
    "range of client requests.\n",
    "\n"
   ]
  },
  {
   "cell_type": "code",
   "execution_count": null,
   "id": "794daf42-85f7-426e-aefe-7b29c0932e83",
   "metadata": {},
   "outputs": [],
   "source": []
  },
  {
   "cell_type": "code",
   "execution_count": null,
   "id": "1ade89b3-04a8-418d-a349-de9cb4e2d5e8",
   "metadata": {},
   "outputs": [],
   "source": [
    "3: \"redirect()\"\n",
    "\n",
    "'redirect()' is used in Flask to redirect the clients web browser to a different URL.\n",
    "It is a function provided by the Flask framework that returns a redirect response\n",
    "to the client.\n",
    " There are several use cases for redirect() in Flask. Here are a few examples\n",
    "\n",
    "1.Redirecting after form submission\n",
    "2.Redirecting unauthorized users\n",
    "3.Redirecting to a new URL scheme\n",
    "\n",
    "Overall, redirect() is a useful tool for building web applications that are easy\n",
    "to navigate and user-friendly. It allows developers to handle a wide range of user\n",
    "actions and responses in a flexible and intuitive way...\n",
    "\n",
    "\n"
   ]
  },
  {
   "cell_type": "code",
   "execution_count": null,
   "id": "f68009f3-1bb0-435c-959f-b707dfac7d01",
   "metadata": {},
   "outputs": [],
   "source": []
  },
  {
   "cell_type": "code",
   "execution_count": null,
   "id": "7b2c739c-e8fa-49cc-86f6-113bd13d5513",
   "metadata": {},
   "outputs": [],
   "source": [
    "4:Templates in Flask are files that contain HTML, along with placeholders for dynamic\n",
    "content that can be filled in with data from a Flask application. Templates allow\n",
    "developers to separate presentation logic from application logic, making it easier\n",
    "to maintain and update the code.\n",
    "\n",
    "\n",
    "The render_template() function is used in Flask to render a template with the specified\n",
    "data. It takes the name of a template file and any variables that should be passed\n",
    "to the template as keyword arguments. The function then processes the template,\n",
    "replacing placeholders with the actual data, and returns the resulting HTML as a\n",
    "response to the client...\n",
    "\n",
    "Here are a few use cases for render_template() in Flask:\n",
    "1.Rendering dynamic web pages\n",
    "2.Generating HTML emails\n",
    "3.Generating PDFs\n",
    "Overall, render_template() is a key function in Flask for generating dynamic HTML \n",
    "content, making it easier to build flexible and customizable web applications...\n",
    "\n",
    "\n",
    "\n",
    "\n",
    "\n"
   ]
  },
  {
   "cell_type": "code",
   "execution_count": null,
   "id": "9c5a574b-5bf4-4430-9b71-42e2908cb19c",
   "metadata": {},
   "outputs": [],
   "source": []
  },
  {
   "cell_type": "code",
   "execution_count": null,
   "id": "7fba2409-2396-4bee-8c10-254d9bb08964",
   "metadata": {},
   "outputs": [],
   "source": [
    "5: A simple API code\n",
    "\n",
    "\n",
    "from flask import Flask, jsonify\n",
    "\n",
    "app = Flask(__name__)\n",
    "\n",
    "@app.route('/random')\n",
    "def random():\n",
    "    random_num = 33\n",
    "    return jsonify({'randomNum': random_num})\n",
    "\n",
    "if __name__ == '__main__':\n",
    "    app.run(debug=True)\n",
    "    \n",
    "This code sets up a Flask app and creates a route at the /random endpoint. When we make a GET request to this\n",
    "endpoint, the server generates a random number,and sends it back in a JSON response.\n",
    "\n",
    "when we Run a code  it show message  \"Running on http://127.0.0.1:5000/\". \n",
    "\n",
    "This means that the server is now running on our local machine.\n",
    "\n",
    "now we can see this output from postman\n",
    "\n",
    "#OUTPUT\n",
    "{\n",
    "  \"randomNum\": 33\n",
    "}\n",
    "\n"
   ]
  }
 ],
 "metadata": {
  "kernelspec": {
   "display_name": "Python 3 (ipykernel)",
   "language": "python",
   "name": "python3"
  },
  "language_info": {
   "codemirror_mode": {
    "name": "ipython",
    "version": 3
   },
   "file_extension": ".py",
   "mimetype": "text/x-python",
   "name": "python",
   "nbconvert_exporter": "python",
   "pygments_lexer": "ipython3",
   "version": "3.10.8"
  }
 },
 "nbformat": 4,
 "nbformat_minor": 5
}
